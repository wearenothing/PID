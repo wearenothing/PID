{
 "cells": [
  {
   "cell_type": "code",
   "execution_count": 1,
   "metadata": {
    "collapsed": true
   },
   "outputs": [],
   "source": [
    "import pandas as pd\n",
    "import numpy as np\n",
    "import MDSplus as mds\n",
    "from connection import cnn\n",
    "import dia_signals as ds"
   ]
  },
  {
   "cell_type": "code",
   "execution_count": 2,
   "outputs": [],
   "source": [
    "def get_shot_signal(shot, signal):\n",
    "    \"\"\"\n",
    "    Get 'signal' data from 'shot'\n",
    "    :param shot: shot number\n",
    "    :type shot: int\n",
    "    :param signal: signal name\n",
    "    :type signal: str\n",
    "    :return: Series\n",
    "    \"\"\"\n",
    "    tree = ds.get_sig2tree(signal)\n",
    "    cnn.openTree(tree,shot)\n",
    "    index = cnn.get(f'dim_of(\\\\{signal})').data()\n",
    "    value = cnn.get(f'\\\\{signal}').data()\n",
    "    cnn.closeTree(tree,shot)\n",
    "    data = pd.Series(value,index=index)\n",
    "    return data\n"
   ],
   "metadata": {
    "collapsed": false,
    "pycharm": {
     "name": "#%%\n"
    }
   }
  },
  {
   "cell_type": "code",
   "execution_count": 6,
   "outputs": [
    {
     "name": "stdout",
     "output_type": "stream",
     "text": [
      "236 ms ± 45.6 ms per loop (mean ± std. dev. of 7 runs, 1 loop each)\n"
     ]
    }
   ],
   "source": [
    "%%timeit\n",
    "data = get_shot_signal(125383,'dal6')\n",
    "# data.plot()"
   ],
   "metadata": {
    "collapsed": false,
    "pycharm": {
     "name": "#%%\n"
    }
   }
  },
  {
   "cell_type": "code",
   "execution_count": 7,
   "outputs": [],
   "source": [
    "tree = 'east'\n",
    "shot = 125383"
   ],
   "metadata": {
    "collapsed": false,
    "pycharm": {
     "name": "#%%\n"
    }
   }
  },
  {
   "cell_type": "code",
   "execution_count": 10,
   "outputs": [
    {
     "name": "stdout",
     "output_type": "stream",
     "text": [
      "115 ms ± 1.6 ms per loop (mean ± std. dev. of 7 runs, 10 loops each)\n"
     ]
    }
   ],
   "source": [
    "\n",
    "%%timeit\n",
    "cnn.openTree(tree,shot)\n",
    "cnn.closeTree(tree,shot)\n"
   ],
   "metadata": {
    "collapsed": false,
    "pycharm": {
     "name": "#%%\n"
    }
   }
  },
  {
   "cell_type": "code",
   "execution_count": 2,
   "outputs": [
    {
     "data": {
      "text/plain": "{'analysis': ['pnbi1lsource'],\n 'pcs_east': ['dfsdev', 'pcrl01'],\n 'efitrt_east': ['wmhd/1000'],\n 'euv_east': ['bv', 'cuxxvi'],\n 'efit_east': ['volume'],\n 'east_1': ['vldl1', 'dul7'],\n 'east': ['dau', 'vlds1']}"
     },
     "execution_count": 2,
     "metadata": {},
     "output_type": "execute_result"
    }
   ],
   "source": [
    "signal_list = [\n",
    "    \"pnbi1lsource\", \"dfsdev\", \"wmhd/1000\", \"bv\", \"pcrl01\", \"volume\", \"cuxxvi\",'vldl1','dau_f','vlds1_f','dul7'\n",
    "]\n",
    "ds.get_signals_tree(signal_list)"
   ],
   "metadata": {
    "collapsed": false,
    "pycharm": {
     "name": "#%%\n"
    }
   }
  },
  {
   "cell_type": "code",
   "execution_count": 8,
   "outputs": [
    {
     "ename": "SyntaxError",
     "evalue": "unexpected EOF while parsing (3988076179.py, line 1)",
     "output_type": "error",
     "traceback": [
      "\u001B[1;36m  Input \u001B[1;32mIn [8]\u001B[1;36m\u001B[0m\n\u001B[1;33m    def get_shot_sigs():\u001B[0m\n\u001B[1;37m                        ^\u001B[0m\n\u001B[1;31mSyntaxError\u001B[0m\u001B[1;31m:\u001B[0m unexpected EOF while parsing\n"
     ]
    }
   ],
   "source": [
    "def get_signals_shot(shot, signals):\n",
    "\n",
    "    tree = ds.get_sig2tree(signal)\n",
    "    cnn.openTree(tree,shot)\n",
    "    index = cnn.get(f'dim_of(\\\\{signal})').data()\n",
    "    value = cnn.get(f'\\\\{signal}').data()\n",
    "    cnn.closeTree(tree,shot)\n",
    "    data = pd.Series(value,index=index)\n",
    "    return data"
   ],
   "metadata": {
    "collapsed": false,
    "pycharm": {
     "name": "#%%\n"
    }
   }
  },
  {
   "cell_type": "code",
   "execution_count": null,
   "outputs": [],
   "source": [
    "def get_shots_signal(shots, signal):\n"
   ],
   "metadata": {
    "collapsed": false,
    "pycharm": {
     "name": "#%%\n"
    }
   }
  },
  {
   "cell_type": "code",
   "execution_count": null,
   "outputs": [],
   "source": [
    "def get_shots_signals(shots, signals):\n"
   ],
   "metadata": {
    "collapsed": false,
    "pycharm": {
     "name": "#%%\n"
    }
   }
  }
 ],
 "metadata": {
  "kernelspec": {
   "display_name": "Python 3",
   "language": "python",
   "name": "python3"
  },
  "language_info": {
   "codemirror_mode": {
    "name": "ipython",
    "version": 2
   },
   "file_extension": ".py",
   "mimetype": "text/x-python",
   "name": "python",
   "nbconvert_exporter": "python",
   "pygments_lexer": "ipython2",
   "version": "2.7.6"
  }
 },
 "nbformat": 4,
 "nbformat_minor": 0
}
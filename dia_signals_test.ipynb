{
 "cells": [
  {
   "cell_type": "code",
   "execution_count": 1,
   "metadata": {
    "collapsed": true
   },
   "outputs": [
    {
     "data": {
      "text/plain": "{'analysis': ['pnbi1lsource',\n  'pnbi1rsource',\n  'pnbi2lsource',\n  'pnbi2rsource',\n  'picrfii',\n  'picrfni',\n  'picrfbi',\n  'pecrh1i',\n  'pecrh2i',\n  'pecrh3i',\n  'pecrh4i'],\n 'efit_east': ['volume'],\n 'efitrt_east': ['drsep', 'wmhd/1000'],\n 'euv_east': ['bv', 'cuxxvi', 'liiii', 'wuta'],\n 'pcs_east': ['dfsdev',\n  'dfsdev2',\n  'pcrl01',\n  'pcrl02',\n  'lpcbuff',\n  'lpstarget',\n  'lpsda',\n  'sycvldl1']}"
     },
     "execution_count": 1,
     "metadata": {},
     "output_type": "execute_result"
    }
   ],
   "source": [
    "# Tree_name of signals\n",
    "Nodes = {\n",
    "    'analysis':[\"pnbi1lsource\",\"pnbi1rsource\",\"pnbi2lsource\",\"pnbi2rsource\",'picrfii','picrfni','picrfbi','pecrh1i','pecrh2i','pecrh3i','pecrh4i'],\n",
    "\n",
    "    'efit_east':['volume'],\n",
    "\n",
    "    'efitrt_east':['drsep','wmhd/1000'],\n",
    "\n",
    "    'euv_east':['bv','cuxxvi','liiii','wuta'],\n",
    "\n",
    "    'pcs_east':['dfsdev','dfsdev2','pcrl01','pcrl02','lpcbuff','lpstarget','lpsda','sycvldl1']\n",
    "}\n",
    "Nodes"
   ]
  },
  {
   "cell_type": "code",
   "execution_count": 2,
   "outputs": [
    {
     "data": {
      "text/plain": "{'pnbi1lsource': 'analysis',\n 'pnbi1rsource': 'analysis',\n 'pnbi2lsource': 'analysis',\n 'pnbi2rsource': 'analysis',\n 'picrfii': 'analysis',\n 'picrfni': 'analysis',\n 'picrfbi': 'analysis',\n 'pecrh1i': 'analysis',\n 'pecrh2i': 'analysis',\n 'pecrh3i': 'analysis',\n 'pecrh4i': 'analysis',\n 'volume': 'efit_east',\n 'drsep': 'efitrt_east',\n 'wmhd/1000': 'efitrt_east',\n 'bv': 'euv_east',\n 'cuxxvi': 'euv_east',\n 'liiii': 'euv_east',\n 'wuta': 'euv_east',\n 'dfsdev': 'pcs_east',\n 'dfsdev2': 'pcs_east',\n 'pcrl01': 'pcs_east',\n 'pcrl02': 'pcs_east',\n 'lpcbuff': 'pcs_east',\n 'lpstarget': 'pcs_east',\n 'lpsda': 'pcs_east',\n 'sycvldl1': 'pcs_east'}"
     },
     "execution_count": 2,
     "metadata": {},
     "output_type": "execute_result"
    }
   ],
   "source": [
    "\n",
    "# All tree names\n",
    "Tree = list(Nodes.keys()) + ['east','east_1']\n",
    "\n",
    "# Each signal's tree_name\n",
    "sig2tree = {}\n",
    "for node in list(Nodes.keys()):\n",
    "    for signal in Nodes[node]:\n",
    "        sig2tree[signal]= node\n",
    "sig2tree"
   ],
   "metadata": {
    "collapsed": false,
    "pycharm": {
     "name": "#%%\n"
    }
   }
  },
  {
   "cell_type": "code",
   "execution_count": 3,
   "outputs": [],
   "source": [
    "\n",
    "# get tree name of one signal\n",
    "def get_sig2tree(signal_name):\n",
    "    if signal_name in sig2tree:\n",
    "        return sig2tree[signal_name]\n",
    "    elif signal_name[-2:]=='_f':\n",
    "        return 'east'\n",
    "    else:\n",
    "        return 'east_1'\n"
   ],
   "metadata": {
    "collapsed": false,
    "pycharm": {
     "name": "#%%\n"
    }
   }
  },
  {
   "cell_type": "code",
   "execution_count": 6,
   "outputs": [
    {
     "data": {
      "text/plain": "('east_1', 'east', 'efit_east', 'euv_east')"
     },
     "execution_count": 6,
     "metadata": {},
     "output_type": "execute_result"
    }
   ],
   "source": [
    "get_sig2tree('vldl1'),get_sig2tree('vldl1_f'),get_sig2tree('volume'),get_sig2tree('liiii')"
   ],
   "metadata": {
    "collapsed": false,
    "pycharm": {
     "name": "#%%\n"
    }
   }
  },
  {
   "cell_type": "code",
   "execution_count": null,
   "outputs": [],
   "source": [
    "# Classification of signals\n",
    "exp2sig={\n",
    "    'nbi':[\"pnbi1lsource\",\"pnbi1rsource\",\"pnbi2lsource\",\"pnbi2rsource\"],\n",
    "    'icrf':['picrfii','picrfni','picrfbi'],\n",
    "    'ecrh':['pecrh1i','pecrh2i','pecrh3i','pecrh4i'],\n",
    "    'euv': ['bv','cuxxvi','liiii','wuta'],\n",
    "    'energy':['wmhd/1000'],\n",
    "    'configuration':['drsep'],\n",
    "    'li powder':['vldl1','vlds1'],\n",
    "    'li pellet':['vlpd','igsgr','igsgf','vldh1','vlpt','igfc','freq'],\n",
    "    'bo powder':['vldl1','idsg','idfm'],\n",
    "    'neutral pressure':['G109','G106']\n",
    "}"
   ],
   "metadata": {
    "collapsed": false,
    "pycharm": {
     "name": "#%%\n"
    }
   }
  },
  {
   "cell_type": "code",
   "execution_count": null,
   "outputs": [],
   "source": [],
   "metadata": {
    "collapsed": false,
    "pycharm": {
     "name": "#%%\n"
    }
   }
  },
  {
   "cell_type": "code",
   "execution_count": null,
   "outputs": [],
   "source": [
    "# Explanation for each signal\n",
    "sig2exp={\n",
    "    'G109':'Neutral pressure of upper-divertor',\n",
    "    'G106':'Neutral pressure of lower-divertor',\n",
    "    'vldl1': 'Triggering waveform for Lithium/Boron dropper',\n",
    "    'vlds1': 'Working waveform for Lithium dropper',\n",
    "    'idsg': 'Working waveform for Boron dropper ',\n",
    "    'idfm': 'Flow meter of boron dropper ',\n",
    "    'wmhd/1000': 'Stored energy',\n",
    "    'drsep': 'configuration',\n",
    "    'bv': 'boron light emission',\n",
    "    'cuxxvi': 'Cu impurity',\n",
    "    'liiii': 'Lithium light emission',\n",
    "    'wuta': 'Wu impurity'\n",
    "}"
   ],
   "metadata": {
    "collapsed": false,
    "pycharm": {
     "name": "#%%\n"
    }
   }
  },
  {
   "cell_type": "code",
   "execution_count": 1,
   "outputs": [],
   "source": [
    "import dia_signals as ds"
   ],
   "metadata": {
    "collapsed": false,
    "pycharm": {
     "name": "#%%\n"
    }
   }
  },
  {
   "cell_type": "code",
   "execution_count": 3,
   "outputs": [
    {
     "data": {
      "text/plain": "(['dfsdev',\n  'dfsdev2',\n  'pcrl01',\n  'pcrl02',\n  'lpcbuff',\n  'lpstarget',\n  'lpsda',\n  'sycvldl1'],\n ['pnbi1lsource', 'pnbi1rsource', 'pnbi2lsource', 'pnbi2rsource'],\n 'Lithium light emission')"
     },
     "execution_count": 3,
     "metadata": {},
     "output_type": "execute_result"
    }
   ],
   "source": [
    "ds.get_tree2sigs('pcs_east'),ds.get_exp2sigs('NBI'),ds.get_sig2exp('liiii')"
   ],
   "metadata": {
    "collapsed": false,
    "pycharm": {
     "name": "#%%\n"
    }
   }
  },
  {
   "cell_type": "code",
   "execution_count": null,
   "outputs": [],
   "source": [
    "classified_value = {}\n",
    "signal_list = [\n",
    "    \"pnbi1lsource\", \"dfsdev\", \"wmhd/1000\", \"bv\", \"pcrl01\", \"volume\", \"cuxxvi\",'vldl1','dau_f','vlds1_f','dul7'\n",
    "]\n",
    "for signal in signal_list:\n",
    "    for key,value in Nodes.items():\n",
    "        if signal in value:\n",
    "            if key in classified_value:\n",
    "                classified_value[key].append(signal)\n",
    "            else:\n",
    "                classified_value[key] = [signal]\n",
    "        elif signal[-2:] == '_f':\n",
    "            if 'east' in classified_value:\n",
    "                classified_value['east'].append(signal[:-2])\n",
    "            else:\n",
    "                classified_value['east'] = [signal[:-2]]\n",
    "        else:\n",
    "            if 'east_1' in classified_value:\n",
    "                classified_value['east_1'].append(signal)\n",
    "            else:\n",
    "                classified_value['east_1'] = [signal]"
   ],
   "metadata": {
    "collapsed": false,
    "pycharm": {
     "name": "#%%\n"
    }
   }
  },
  {
   "cell_type": "markdown",
   "source": [
    "# get trees of current signals"
   ],
   "metadata": {
    "collapsed": false,
    "pycharm": {
     "name": "#%% md\n"
    }
   }
  },
  {
   "cell_type": "code",
   "execution_count": 1,
   "outputs": [
    {
     "name": "stdout",
     "output_type": "stream",
     "text": [
      "analysis: ['pnbi1lsource']\n",
      "efit_east: ['volume']\n",
      "efitrt_east: ['wmhd/1000']\n",
      "euv_east: ['bv', 'cuxxvi']\n",
      "pcs_east: ['dfsdev', 'pcrl01']\n"
     ]
    }
   ],
   "source": [
    "Nodes = {\n",
    "    'analysis': [\"pnbi1lsource\", \"pnbi1rsource\", \"pnbi2lsource\", \"pnbi2rsource\", 'picrfii', 'picrfni', 'picrfbi', 'pecrh1i', 'pecrh2i', 'pecrh3i', 'pecrh4i'],\n",
    "    'efit_east': ['volume'],\n",
    "    'efitrt_east': ['drsep', 'wmhd/1000'],\n",
    "    'euv_east': ['bv', 'cuxxvi', 'liiii', 'wuta'],\n",
    "    'pcs_east': ['dfsdev', 'dfsdev2', 'pcrl01', 'pcrl02', 'lpcbuff', 'lpstarget', 'lpsda', 'sycvldl1']\n",
    "}\n",
    "\n",
    "\n",
    "\n",
    "# 使用字典推导式进行分类\n",
    "classified_values = {key: [value for value in value_list if value in signal_list] for key, value_list in Nodes.items()}\n",
    "\n",
    "# 打印分类结果\n",
    "for key, value_list in classified_values.items():\n",
    "    print(f\"{key}: {value_list}\")"
   ],
   "metadata": {
    "collapsed": false,
    "pycharm": {
     "name": "#%%\n"
    }
   }
  }
 ],
 "metadata": {
  "kernelspec": {
   "display_name": "Python 3",
   "language": "python",
   "name": "python3"
  },
  "language_info": {
   "codemirror_mode": {
    "name": "ipython",
    "version": 2
   },
   "file_extension": ".py",
   "mimetype": "text/x-python",
   "name": "python",
   "nbconvert_exporter": "python",
   "pygments_lexer": "ipython2",
   "version": "2.7.6"
  }
 },
 "nbformat": 4,
 "nbformat_minor": 0
}